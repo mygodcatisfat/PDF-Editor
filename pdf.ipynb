{
  "nbformat": 4,
  "nbformat_minor": 0,
  "metadata": {
    "colab": {
      "provenance": []
    },
    "kernelspec": {
      "name": "python3",
      "display_name": "Python 3"
    },
    "language_info": {
      "name": "python"
    }
  },
  "cells": [
    {
      "cell_type": "code",
      "source": [
        "#@title 無論如何先點擊左邊「開始」按鍵\n",
        "!pip install pikepdf\n",
        "!pip install reportlab\n",
        "!pip install PyPDF4"
      ],
      "metadata": {
        "colab": {
          "base_uri": "https://localhost:8080/",
          "height": 730
        },
        "id": "ahkskK1dsHrd",
        "outputId": "4b967fec-cf03-4772-f535-574d2694a89b",
        "cellView": "form"
      },
      "execution_count": null,
      "outputs": [
        {
          "output_type": "stream",
          "name": "stdout",
          "text": [
            "Looking in indexes: https://pypi.org/simple, https://us-python.pkg.dev/colab-wheels/public/simple/\n",
            "Collecting pikepdf\n",
            "  Downloading pikepdf-6.2.5-cp38-cp38-manylinux_2_17_x86_64.manylinux2014_x86_64.whl (2.6 MB)\n",
            "\u001b[K     |████████████████████████████████| 2.6 MB 4.2 MB/s \n",
            "\u001b[?25hCollecting Pillow>=9.0\n",
            "  Downloading Pillow-9.3.0-cp38-cp38-manylinux_2_17_x86_64.manylinux2014_x86_64.whl (3.2 MB)\n",
            "\u001b[K     |████████████████████████████████| 3.2 MB 29.9 MB/s \n",
            "\u001b[?25hRequirement already satisfied: packaging in /usr/local/lib/python3.8/dist-packages (from pikepdf) (21.3)\n",
            "Requirement already satisfied: lxml>=4.8 in /usr/local/lib/python3.8/dist-packages (from pikepdf) (4.9.1)\n",
            "Collecting deprecation\n",
            "  Downloading deprecation-2.1.0-py2.py3-none-any.whl (11 kB)\n",
            "Requirement already satisfied: pyparsing!=3.0.5,>=2.0.2 in /usr/local/lib/python3.8/dist-packages (from packaging->pikepdf) (3.0.9)\n",
            "Installing collected packages: Pillow, deprecation, pikepdf\n",
            "  Attempting uninstall: Pillow\n",
            "    Found existing installation: Pillow 7.1.2\n",
            "    Uninstalling Pillow-7.1.2:\n",
            "      Successfully uninstalled Pillow-7.1.2\n",
            "Successfully installed Pillow-9.3.0 deprecation-2.1.0 pikepdf-6.2.5\n"
          ]
        },
        {
          "output_type": "display_data",
          "data": {
            "application/vnd.colab-display-data+json": {
              "pip_warning": {
                "packages": [
                  "PIL"
                ]
              }
            }
          },
          "metadata": {}
        },
        {
          "output_type": "stream",
          "name": "stdout",
          "text": [
            "Looking in indexes: https://pypi.org/simple, https://us-python.pkg.dev/colab-wheels/public/simple/\n",
            "Collecting reportlab\n",
            "  Downloading reportlab-3.6.12-cp38-cp38-manylinux_2_17_x86_64.manylinux2014_x86_64.whl (2.8 MB)\n",
            "\u001b[K     |████████████████████████████████| 2.8 MB 4.3 MB/s \n",
            "\u001b[?25hRequirement already satisfied: pillow>=9.0.0 in /usr/local/lib/python3.8/dist-packages (from reportlab) (9.3.0)\n",
            "Installing collected packages: reportlab\n",
            "Successfully installed reportlab-3.6.12\n",
            "Looking in indexes: https://pypi.org/simple, https://us-python.pkg.dev/colab-wheels/public/simple/\n",
            "Collecting PyPDF4\n",
            "  Downloading PyPDF4-1.27.0.tar.gz (63 kB)\n",
            "\u001b[K     |████████████████████████████████| 63 kB 1.6 MB/s \n",
            "\u001b[?25hBuilding wheels for collected packages: PyPDF4\n",
            "  Building wheel for PyPDF4 (setup.py) ... \u001b[?25l\u001b[?25hdone\n",
            "  Created wheel for PyPDF4: filename=PyPDF4-1.27.0-py3-none-any.whl size=61248 sha256=a6b1045049e71eb323279e04128a850bb5ab9b574ba49cc32fc73998fbee9167\n",
            "  Stored in directory: /root/.cache/pip/wheels/f0/79/75/d130281ec9996a2551dbdd1836aa4beb376d53f8cdca49b4b0\n",
            "Successfully built PyPDF4\n",
            "Installing collected packages: PyPDF4\n",
            "Successfully installed PyPDF4-1.27.0\n"
          ]
        }
      ]
    },
    {
      "cell_type": "markdown",
      "source": [
        "#**PDF分割**"
      ],
      "metadata": {
        "id": "QU3oMy7Bt_HM"
      }
    },
    {
      "cell_type": "code",
      "source": [
        "#@title 填寫完下方資料後，點擊左邊「開始」按鍵\n",
        "#@markdown * 把檔案拉到左色選單>點擊檔案>右鍵>複製路徑>貼到下方\n",
        "File_Path = '/content/doc02158220220708104502.pdf' #@param {type:\"string\"}\n",
        "#@markdown * 起始頁數(自行調整)\n",
        "Start_Page = 1 #@param {type:\"integer\"}\n",
        "#@markdown * 結束頁數(自行調整)\n",
        "End_Page = 2 #@param {type:\"integer\"}\n",
        "#@markdown * 新檔案名稱\n",
        "New_Spilt_File_Name = '123' #@param {type:\"string\"}\n",
        "\n",
        "from pikepdf import Pdf\n",
        "\n",
        "pdf = Pdf.open(File_Path)   \n",
        "pages = pdf.pages\n",
        "\n",
        "output = Pdf.new()\n",
        "if End_Page <= len(pages):\n",
        "    for i in range(Start_Page - 1, End_Page):\n",
        "        output.pages.append(pages[i])\n",
        "    output.save('/content/' + New_Spilt_File_Name + '.pdf')\n",
        "else:\n",
        "    print('超過原本頁數')"
      ],
      "metadata": {
        "id": "A49u8JLgnsOn"
      },
      "execution_count": null,
      "outputs": []
    },
    {
      "cell_type": "markdown",
      "source": [
        "#**PDF合併**"
      ],
      "metadata": {
        "id": "OLtdV7XsuiE6"
      }
    },
    {
      "cell_type": "code",
      "source": [
        "#@title 填寫完下方資料後，點擊左邊「開始」按鍵\n",
        "#@markdown * 把「檔案1」拉到左色選單>點擊檔案>右鍵>複製路徑>貼到下方\n",
        "File_Path_1 = '/content/\\u7C3D.pdf' #@param {type:\"string\"}\n",
        "#@markdown * 把「檔案2」拉到左色選單>點擊檔案>右鍵>複製路徑>貼到下方\n",
        "File_Path_2 = '/content/\\u7A3F.pdf' #@param {type:\"string\"}\n",
        "#@markdown * 新檔案名稱\n",
        "New_Merge_File_Name = '\\u7C3D\\u7A3F\\u5408\\u4F75' #@param {type:\"string\"}\n",
        "from pikepdf import Pdf\n",
        "pdf_1 = Pdf.open(File_Path_1)\n",
        "pdf_2 = Pdf.open(File_Path_2)\n",
        "pages_1 = pdf_1.pages\n",
        "pages_2 = pdf_2.pages\n",
        "#pages = pdf.pages\n",
        "output = Pdf.new()  \n",
        "for i in range(0, len(pages_1)):\n",
        "  output.pages.append(pages_1[i])  \n",
        "for j in range(0, len(pages_2)):\n",
        "  output.pages.append(pages_2[j])\n",
        "output.save('/content/' + New_Merge_File_Name + '.pdf')"
      ],
      "metadata": {
        "id": "iGSaJwJYusat",
        "cellView": "form"
      },
      "execution_count": null,
      "outputs": []
    },
    {
      "cell_type": "markdown",
      "source": [
        "#**PDF編寫頁碼**"
      ],
      "metadata": {
        "id": "cNjELpe5Z16d"
      }
    },
    {
      "cell_type": "code",
      "source": [
        "#@title 填寫完下方資料後，點擊左邊「開始」按鍵\n",
        "#@markdown * 把檔案拉到左色選單>點擊檔案>右鍵>複製路徑>貼到下方\n",
        "#@markdown * 檔案新名稱是「原檔名_num.pdf」\n",
        "File_Path_4_Page_Num = '/content/hw3_num.pdf' #@param {type:\"string\"}\n",
        "#@markdown * 頁碼大小\n",
        "Font_Size = 32 #@param {type:\"integer\"}\n",
        "#@markdown * 頁碼位置\n",
        "Font_Place = \"\\u4E2D\" #@param [\"中\", \"右\"]\n",
        "\n",
        "import os\n",
        "from PyPDF4.pdf import PdfFileReader, PdfFileWriter\n",
        "from reportlab.lib.units import mm\n",
        "from reportlab.pdfgen import canvas\n",
        "from reportlab.lib.pagesizes import letter\n",
        "\n",
        "def Create_Page_Pdf(num, tmp):\n",
        "    c = canvas.Canvas(tmp)\n",
        "    for i in range(1, num + 1):\n",
        "        \n",
        "        # 判斷頁面版面方向\n",
        "        pdf = PdfFileReader(File_Path_4_Page_Num)\n",
        "        size = pdf.getPage(i - 1).mediaBox\n",
        "        width, height = size[2], size[3]\n",
        "        \n",
        "        if Font_Place == \"\\u4E2D\": # 中\n",
        "          if width > height: # 橫向\n",
        "            # 將初始座標(20, 340)設為新座標(0,0)，並旋轉270度\n",
        "            c.translate(20, 340)\n",
        "            c.rotate(270)\n",
        "          else:\n",
        "            # 將初始座標(285, 20)設為新座標(0,0)\n",
        "            c.translate(285, 20)\n",
        "        elif Font_Place == \"\\u53F3\": # 右\n",
        "          if width > height: # 縱向\n",
        "            # 將初始座標(20, 40)設為新座標(0,0)，並旋轉270度\n",
        "            c.translate(20, 40)\n",
        "            c.rotate(270)\n",
        "          else:\n",
        "            # 將初始座標(550, 20)設為新座標(0,0)\n",
        "            c.translate(550, 20)\n",
        "        \n",
        "        # Helvetica是一種廣泛使用於拉丁字母的無襯線字體\n",
        "        c.setFont(\"Helvetica\", Font_Size)\n",
        "        c.drawString(mm, -mm, str(i)) \n",
        "        c.showPage()\n",
        "    c.save()\n",
        "\n",
        "def Add_Page_Numbers(pdf_path):\n",
        "    tmp = \"__tmp.pdf\"\n",
        "\n",
        "    writer = PdfFileWriter()\n",
        "    with open(File_Path_4_Page_Num, \"rb\") as f:\n",
        "        reader = PdfFileReader(f, strict=False)\n",
        "        # 獲得總頁數\n",
        "        File_Pages = reader.getNumPages()\n",
        "\n",
        "        Create_Page_Pdf(File_Pages, tmp)\n",
        "\n",
        "        with open(tmp, \"rb\") as ftmp:\n",
        "            number_pdf = PdfFileReader(ftmp)\n",
        "            for p in range(File_Pages):\n",
        "                page = reader.getPage(p)\n",
        "                numberLayer = number_pdf.getPage(p)\n",
        "                page.mergePage(numberLayer)\n",
        "                writer.addPage(page)\n",
        "            if writer.getNumPages():\n",
        "                newpath = pdf_path[:-4] + \"_num.pdf\"\n",
        "                with open(newpath, \"wb\") as f:\n",
        "                    writer.write(f)\n",
        "        os.remove(tmp)\n",
        "Add_Page_Numbers(File_Path_4_Page_Num)"
      ],
      "metadata": {
        "id": "SWZzsltWZvfi"
      },
      "execution_count": null,
      "outputs": []
    },
    {
      "cell_type": "code",
      "source": [
        "#@title 填寫完下方資料後，點擊左邊「開始」按鍵\n",
        "#@markdown * 把檔案拉到左色選單>點擊檔案>右鍵>複製路徑>貼到下方\n",
        "#@markdown * 檔案新名稱是「原檔名_num.pdf」\n",
        "File_Path_4_Page_Num = '/content/hw3_num.pdf' #@param {type:\"string\"}\n",
        "#@markdown * 頁碼大小\n",
        "Font_Size = 32 #@param {type:\"integer\"}\n",
        "#@markdown * 頁碼位置\n",
        "Font_Place = \"\\u4E2D\" #@param [\"中\", \"右\"]\n",
        "\n",
        "import os\n",
        "from PyPDF4.pdf import PdfFileReader, PdfFileWriter\n",
        "from reportlab.lib.units import mm\n",
        "from reportlab.pdfgen import canvas\n",
        "from reportlab.lib.pagesizes import letter\n",
        "\n",
        "def Create_Page_Pdf(num, tmp):\n",
        "    c = canvas.Canvas(tmp)\n",
        "    for i in range(1, num + 1):\n",
        "        \n",
        "        # 判斷頁面版面方向\n",
        "        pdf = PdfFileReader(File_Path_4_Page_Num)\n",
        "        size = pdf.getPage(i - 1).mediaBox\n",
        "        width, height = size[2], size[3]\n",
        "        \n",
        "        if Font_Place == \"\\u4E2D\": # 中\n",
        "          if width > height: # 橫向\n",
        "            # 將初始座標(20, 340)設為新座標(0,0)，並旋轉270度\n",
        "            c.translate(20, 340)\n",
        "            c.rotate(270)\n",
        "          else:\n",
        "            # 將初始座標(285, 20)設為新座標(0,0)\n",
        "            c.translate(285, 20)\n",
        "        elif Font_Place == \"\\u53F3\": # 右\n",
        "          if width > height: # 縱向\n",
        "            # 將初始座標(20, 40)設為新座標(0,0)，並旋轉270度\n",
        "            c.translate(20, 40)\n",
        "            c.rotate(270)\n",
        "          else:\n",
        "            # 將初始座標(550, 20)設為新座標(0,0)\n",
        "            c.translate(550, 20)\n",
        "        \n",
        "        # Helvetica是一種廣泛使用於拉丁字母的無襯線字體\n",
        "        c.setFont(\"Helvetica\", Font_Size)\n",
        "        c.drawString(mm, -mm, str(i)) \n",
        "        c.showPage()\n",
        "    c.save()\n",
        "\n",
        "def Add_Page_Numbers(pdf_path):\n",
        "    tmp = \"__tmp.pdf\"\n",
        "\n",
        "    writer = PdfFileWriter()\n",
        "    with open(File_Path_4_Page_Num, \"rb\") as f:\n",
        "        reader = PdfFileReader(f, strict = False)\n",
        "        # 獲得總頁數\n",
        "        File_Pages = reader.getNumPages()\n",
        "\n",
        "        Create_Page_Pdf(File_Pages, tmp)\n",
        "\n",
        "        with open(tmp, \"rb\") as ftmp:\n",
        "            number_pdf = PdfFileReader(ftmp)\n",
        "            for p in range(File_Pages):\n",
        "                page = reader.getPage(p)\n",
        "                numberLayer = number_pdf.getPage(p)\n",
        "                page.mergePage(numberLayer)\n",
        "                writer.addPage(page)\n",
        "            if writer.getNumPages():\n",
        "                newpath = pdf_path[:-4] + \"_num.pdf\"\n",
        "                with open(newpath, \"wb\") as f:\n",
        "                    writer.write(f)\n",
        "        os.remove(tmp)\n",
        "Add_Page_Numbers(File_Path_4_Page_Num)"
      ],
      "metadata": {
        "id": "XTXpTyYbmyjz"
      },
      "execution_count": null,
      "outputs": []
    }
  ]
}